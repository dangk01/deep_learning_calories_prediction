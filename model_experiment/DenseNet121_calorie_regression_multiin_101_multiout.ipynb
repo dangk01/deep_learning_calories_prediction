{
  "nbformat": 4,
  "nbformat_minor": 0,
  "metadata": {
    "colab": {
      "provenance": []
    },
    "kernelspec": {
      "name": "python3",
      "display_name": "Python 3"
    },
    "language_info": {
      "name": "python"
    },
    "accelerator": "GPU",
    "gpuClass": "standard"
  },
  "cells": [
    {
      "cell_type": "code",
      "execution_count": null,
      "metadata": {
        "colab": {
          "base_uri": "https://localhost:8080/"
        },
        "id": "AOeBIdwJQtkw",
        "outputId": "4e258167-c27c-4638-93b6-ffb3e54abf2f"
      },
      "outputs": [
        {
          "output_type": "stream",
          "name": "stdout",
          "text": [
            "Mounted at /content/drive\n"
          ]
        }
      ],
      "source": [
        "from google.colab import drive, runtime\n",
        "drive.mount('/content/drive')"
      ]
    },
    {
      "cell_type": "code",
      "source": [
        "import os\n",
        "os.chdir('drive/My Drive/Colab Notebooks/UMich/SI670/Final_Proj')"
      ],
      "metadata": {
        "id": "g8lKStg5Q1dO"
      },
      "execution_count": null,
      "outputs": []
    },
    {
      "cell_type": "code",
      "source": [
        "import pandas as pd\n",
        "from tqdm import tqdm\n",
        "import requests\n",
        "import cv2\n",
        "import numpy as np\n",
        "import tensorflow as tf\n",
        "from keras.applications.densenet import DenseNet121, preprocess_input\n",
        "import numpy as np\n",
        "import os\n",
        "from sklearn.model_selection import train_test_split\n",
        "from sklearn.preprocessing import OneHotEncoder, StandardScaler\n",
        "from sklearn.metrics import mean_absolute_error, mean_absolute_percentage_error\n",
        "from tensorflow import keras\n",
        "from tensorflow.keras import layers\n",
        "from tensorflow.keras.layers import Dense, Input, InputLayer, Flatten, GlobalAveragePooling2D, Dropout, concatenate, Embedding, Reshape\n",
        "from keras.layers import Concatenate\n",
        "from tensorflow.keras.models import Sequential, Model\n",
        "from tensorflow.keras.callbacks import EarlyStopping\n",
        "from PIL import Image\n",
        "import zipfile\n",
        "from  matplotlib import pyplot as plt\n",
        "import matplotlib.image as mpimg\n",
        "%matplotlib inline"
      ],
      "metadata": {
        "id": "aSctDoyuQ2fU"
      },
      "execution_count": null,
      "outputs": []
    },
    {
      "cell_type": "code",
      "source": [
        "SEED = 670"
      ],
      "metadata": {
        "id": "0aA-rMTwQ_iE"
      },
      "execution_count": null,
      "outputs": []
    },
    {
      "cell_type": "markdown",
      "source": [
        "# Load Data and Preprocess\n",
        "Basic preprocessing, remove unneeded columns, replace NAs with UNK, narrow down `region`/`meal_type`."
      ],
      "metadata": {
        "id": "mgoOwFHRRUUg"
      }
    },
    {
      "cell_type": "code",
      "source": [
        "data = pd.read_csv('clean_recipe_data_nutrition.csv')\n",
        "data = data[\n",
        "    ['id', 'servings', 'calories_per_serving', 'protein_per_serving', \n",
        "     'fat_per_serving', 'carb_per_serving', 'meal_type', 'region']\n",
        "]\n",
        "data['meal_type'] = data['meal_type'].fillna(value='UNK_meal_type')\n",
        "data.head()"
      ],
      "metadata": {
        "colab": {
          "base_uri": "https://localhost:8080/",
          "height": 206
        },
        "id": "NKKxJktARDE-",
        "outputId": "d0d1e53b-5c90-4a4b-9f74-c81a1a8869f3"
      },
      "execution_count": null,
      "outputs": [
        {
          "output_type": "execute_result",
          "data": {
            "text/plain": [
              "   id  servings  calories_per_serving  protein_per_serving  fat_per_serving  \\\n",
              "0   1         2                   388                   17               22   \n",
              "1   3        10                   795                   16               39   \n",
              "2   4        12                   384                   17               25   \n",
              "3   8         8                   381                   34               22   \n",
              "4   9        12                   427                   18               12   \n",
              "\n",
              "   carb_per_serving      meal_type          region  \n",
              "0                29           main  latin_american  \n",
              "1                96        dessert  latin_american  \n",
              "2                25           main  latin_american  \n",
              "3                 9  UNK_meal_type  latin_american  \n",
              "4                63           main  latin_american  "
            ],
            "text/html": [
              "\n",
              "  <div id=\"df-560d6705-bb5c-480c-92f2-91e0a5718905\">\n",
              "    <div class=\"colab-df-container\">\n",
              "      <div>\n",
              "<style scoped>\n",
              "    .dataframe tbody tr th:only-of-type {\n",
              "        vertical-align: middle;\n",
              "    }\n",
              "\n",
              "    .dataframe tbody tr th {\n",
              "        vertical-align: top;\n",
              "    }\n",
              "\n",
              "    .dataframe thead th {\n",
              "        text-align: right;\n",
              "    }\n",
              "</style>\n",
              "<table border=\"1\" class=\"dataframe\">\n",
              "  <thead>\n",
              "    <tr style=\"text-align: right;\">\n",
              "      <th></th>\n",
              "      <th>id</th>\n",
              "      <th>servings</th>\n",
              "      <th>calories_per_serving</th>\n",
              "      <th>protein_per_serving</th>\n",
              "      <th>fat_per_serving</th>\n",
              "      <th>carb_per_serving</th>\n",
              "      <th>meal_type</th>\n",
              "      <th>region</th>\n",
              "    </tr>\n",
              "  </thead>\n",
              "  <tbody>\n",
              "    <tr>\n",
              "      <th>0</th>\n",
              "      <td>1</td>\n",
              "      <td>2</td>\n",
              "      <td>388</td>\n",
              "      <td>17</td>\n",
              "      <td>22</td>\n",
              "      <td>29</td>\n",
              "      <td>main</td>\n",
              "      <td>latin_american</td>\n",
              "    </tr>\n",
              "    <tr>\n",
              "      <th>1</th>\n",
              "      <td>3</td>\n",
              "      <td>10</td>\n",
              "      <td>795</td>\n",
              "      <td>16</td>\n",
              "      <td>39</td>\n",
              "      <td>96</td>\n",
              "      <td>dessert</td>\n",
              "      <td>latin_american</td>\n",
              "    </tr>\n",
              "    <tr>\n",
              "      <th>2</th>\n",
              "      <td>4</td>\n",
              "      <td>12</td>\n",
              "      <td>384</td>\n",
              "      <td>17</td>\n",
              "      <td>25</td>\n",
              "      <td>25</td>\n",
              "      <td>main</td>\n",
              "      <td>latin_american</td>\n",
              "    </tr>\n",
              "    <tr>\n",
              "      <th>3</th>\n",
              "      <td>8</td>\n",
              "      <td>8</td>\n",
              "      <td>381</td>\n",
              "      <td>34</td>\n",
              "      <td>22</td>\n",
              "      <td>9</td>\n",
              "      <td>UNK_meal_type</td>\n",
              "      <td>latin_american</td>\n",
              "    </tr>\n",
              "    <tr>\n",
              "      <th>4</th>\n",
              "      <td>9</td>\n",
              "      <td>12</td>\n",
              "      <td>427</td>\n",
              "      <td>18</td>\n",
              "      <td>12</td>\n",
              "      <td>63</td>\n",
              "      <td>main</td>\n",
              "      <td>latin_american</td>\n",
              "    </tr>\n",
              "  </tbody>\n",
              "</table>\n",
              "</div>\n",
              "      <button class=\"colab-df-convert\" onclick=\"convertToInteractive('df-560d6705-bb5c-480c-92f2-91e0a5718905')\"\n",
              "              title=\"Convert this dataframe to an interactive table.\"\n",
              "              style=\"display:none;\">\n",
              "        \n",
              "  <svg xmlns=\"http://www.w3.org/2000/svg\" height=\"24px\"viewBox=\"0 0 24 24\"\n",
              "       width=\"24px\">\n",
              "    <path d=\"M0 0h24v24H0V0z\" fill=\"none\"/>\n",
              "    <path d=\"M18.56 5.44l.94 2.06.94-2.06 2.06-.94-2.06-.94-.94-2.06-.94 2.06-2.06.94zm-11 1L8.5 8.5l.94-2.06 2.06-.94-2.06-.94L8.5 2.5l-.94 2.06-2.06.94zm10 10l.94 2.06.94-2.06 2.06-.94-2.06-.94-.94-2.06-.94 2.06-2.06.94z\"/><path d=\"M17.41 7.96l-1.37-1.37c-.4-.4-.92-.59-1.43-.59-.52 0-1.04.2-1.43.59L10.3 9.45l-7.72 7.72c-.78.78-.78 2.05 0 2.83L4 21.41c.39.39.9.59 1.41.59.51 0 1.02-.2 1.41-.59l7.78-7.78 2.81-2.81c.8-.78.8-2.07 0-2.86zM5.41 20L4 18.59l7.72-7.72 1.47 1.35L5.41 20z\"/>\n",
              "  </svg>\n",
              "      </button>\n",
              "      \n",
              "  <style>\n",
              "    .colab-df-container {\n",
              "      display:flex;\n",
              "      flex-wrap:wrap;\n",
              "      gap: 12px;\n",
              "    }\n",
              "\n",
              "    .colab-df-convert {\n",
              "      background-color: #E8F0FE;\n",
              "      border: none;\n",
              "      border-radius: 50%;\n",
              "      cursor: pointer;\n",
              "      display: none;\n",
              "      fill: #1967D2;\n",
              "      height: 32px;\n",
              "      padding: 0 0 0 0;\n",
              "      width: 32px;\n",
              "    }\n",
              "\n",
              "    .colab-df-convert:hover {\n",
              "      background-color: #E2EBFA;\n",
              "      box-shadow: 0px 1px 2px rgba(60, 64, 67, 0.3), 0px 1px 3px 1px rgba(60, 64, 67, 0.15);\n",
              "      fill: #174EA6;\n",
              "    }\n",
              "\n",
              "    [theme=dark] .colab-df-convert {\n",
              "      background-color: #3B4455;\n",
              "      fill: #D2E3FC;\n",
              "    }\n",
              "\n",
              "    [theme=dark] .colab-df-convert:hover {\n",
              "      background-color: #434B5C;\n",
              "      box-shadow: 0px 1px 3px 1px rgba(0, 0, 0, 0.15);\n",
              "      filter: drop-shadow(0px 1px 2px rgba(0, 0, 0, 0.3));\n",
              "      fill: #FFFFFF;\n",
              "    }\n",
              "  </style>\n",
              "\n",
              "      <script>\n",
              "        const buttonEl =\n",
              "          document.querySelector('#df-560d6705-bb5c-480c-92f2-91e0a5718905 button.colab-df-convert');\n",
              "        buttonEl.style.display =\n",
              "          google.colab.kernel.accessAllowed ? 'block' : 'none';\n",
              "\n",
              "        async function convertToInteractive(key) {\n",
              "          const element = document.querySelector('#df-560d6705-bb5c-480c-92f2-91e0a5718905');\n",
              "          const dataTable =\n",
              "            await google.colab.kernel.invokeFunction('convertToInteractive',\n",
              "                                                     [key], {});\n",
              "          if (!dataTable) return;\n",
              "\n",
              "          const docLinkHtml = 'Like what you see? Visit the ' +\n",
              "            '<a target=\"_blank\" href=https://colab.research.google.com/notebooks/data_table.ipynb>data table notebook</a>'\n",
              "            + ' to learn more about interactive tables.';\n",
              "          element.innerHTML = '';\n",
              "          dataTable['output_type'] = 'display_data';\n",
              "          await google.colab.output.renderOutput(dataTable, element);\n",
              "          const docLink = document.createElement('div');\n",
              "          docLink.innerHTML = docLinkHtml;\n",
              "          element.appendChild(docLink);\n",
              "        }\n",
              "      </script>\n",
              "    </div>\n",
              "  </div>\n",
              "  "
            ]
          },
          "metadata": {},
          "execution_count": 5
        }
      ]
    },
    {
      "cell_type": "code",
      "source": [
        "# there are multiple meal types associated with some recipes\n",
        "# assign them to only one\n",
        "fix_meal_type_dict = {\n",
        "    'UNK_meal_type':'UNK_meal_type', \n",
        "    'appetizer': 'appetizer', \n",
        "    'appetizer,bread': 'bread',\n",
        "    'appetizer,bread,side': 'bread', \n",
        "    'appetizer,dessert': 'dessert', \n",
        "    'appetizer,main': 'appetizer',\n",
        "    'appetizer,main,salad,side': 'main', \n",
        "    'appetizer,salad': 'salad', \n",
        "    'appetizer,side': 'appetizer',\n",
        "    'appetizer,soups_and_stews': 'soups_and_stews', \n",
        "    'bread': 'bread', \n",
        "    'bread,main': 'bread', \n",
        "    'dessert': 'dessert',\n",
        "    'dessert,main': 'dessert', \n",
        "    'dessert,salad': 'dessert', \n",
        "    'drinks': 'drinks', \n",
        "    'main': 'main', \n",
        "    'main,salad': 'salad',\n",
        "    'main,side': 'side', \n",
        "    'main,side,soups_and_stews': 'main', \n",
        "    'main,soups_and_stews': 'main',\n",
        "    'salad': 'salad', \n",
        "    'salad,side': 'salad', \n",
        "    'side': 'side', \n",
        "    'side,soups_and_stews': 'soups_and_stews',\n",
        "    'soups_and_stews': 'soups_and_stews',\n",
        "    ',main': 'main'\n",
        "}\n",
        "data = data.replace({'meal_type': fix_meal_type_dict})\n",
        "fix_region_dict = {\n",
        "    'african': 'african', \n",
        "    'african,european': 'african',\n",
        "    'african,european,usa': 'african',\n",
        "    'african,middle_eastern': 'african', \n",
        "    'african,middle_eastern,usa': 'african',\n",
        "    'african,usa': 'african', \n",
        "    'asian': 'asian', \n",
        "    'asian,austrailia_new_zealand,usa': 'asian',\n",
        "    'asian,european': 'asian', \n",
        "    'asian,usa': 'asian', \n",
        "    'austrailia_new_zealand': 'austrailia_new_zealand',\n",
        "    'austrailia_new_zealand,european': 'austrailia_new_zealand', \n",
        "    'austrailia_new_zealand,usa': 'austrailia_new_zealand',\n",
        "    'european': 'european',\n",
        "    'european,latin_american': 'european', \n",
        "    'european,middle_eastern': 'european',\n",
        "    'european,middle_eastern,usa': 'european', \n",
        "    'european,usa': 'european', \n",
        "    'latin_american': 'latin_american',\n",
        "    'latin_american,usa': 'latin_american', \n",
        "    'middle_eastern': 'middle_eastern', \n",
        "    'middle_eastern,usa': 'middle_eastern',\n",
        "    'usa': 'usa'\n",
        "}\n",
        "data = data.replace({'region': fix_region_dict})"
      ],
      "metadata": {
        "id": "l930Id82ROdG"
      },
      "execution_count": null,
      "outputs": []
    },
    {
      "cell_type": "markdown",
      "source": [
        "Loaded weighted calorie predictions from nutritionix and food101 classification"
      ],
      "metadata": {
        "id": "b1S3dgssRoGs"
      }
    },
    {
      "cell_type": "code",
      "source": [
        "weighted_nutrition = pd.read_csv('weighted_nutrition.csv')\n",
        "weighted_nutrition.rename(columns={'Unnamed: 0': 'id'}, inplace=True)\n",
        "weighted_nutrition.head()"
      ],
      "metadata": {
        "colab": {
          "base_uri": "https://localhost:8080/",
          "height": 206
        },
        "id": "fvtOQsYfRv_G",
        "outputId": "5fd095e1-43b1-4f62-eb7c-bbb5791fd99d"
      },
      "execution_count": null,
      "outputs": [
        {
          "output_type": "execute_result",
          "data": {
            "text/plain": [
              "   id  weighted_cal  weighted_pro  weighted_fat  weighted_carb\n",
              "0   0    286.304811     29.143274     12.753691      12.897601\n",
              "1   1    264.732791     21.452818     13.690746      13.481654\n",
              "2   2    326.277472      4.935468     17.250680      39.309275\n",
              "3   3    380.316082     32.387473     26.780495       0.184563\n",
              "4   4    137.537077      7.995832      6.126593      13.032693"
            ],
            "text/html": [
              "\n",
              "  <div id=\"df-d8ed46de-ac1e-47b1-836e-a54d5b557483\">\n",
              "    <div class=\"colab-df-container\">\n",
              "      <div>\n",
              "<style scoped>\n",
              "    .dataframe tbody tr th:only-of-type {\n",
              "        vertical-align: middle;\n",
              "    }\n",
              "\n",
              "    .dataframe tbody tr th {\n",
              "        vertical-align: top;\n",
              "    }\n",
              "\n",
              "    .dataframe thead th {\n",
              "        text-align: right;\n",
              "    }\n",
              "</style>\n",
              "<table border=\"1\" class=\"dataframe\">\n",
              "  <thead>\n",
              "    <tr style=\"text-align: right;\">\n",
              "      <th></th>\n",
              "      <th>id</th>\n",
              "      <th>weighted_cal</th>\n",
              "      <th>weighted_pro</th>\n",
              "      <th>weighted_fat</th>\n",
              "      <th>weighted_carb</th>\n",
              "    </tr>\n",
              "  </thead>\n",
              "  <tbody>\n",
              "    <tr>\n",
              "      <th>0</th>\n",
              "      <td>0</td>\n",
              "      <td>286.304811</td>\n",
              "      <td>29.143274</td>\n",
              "      <td>12.753691</td>\n",
              "      <td>12.897601</td>\n",
              "    </tr>\n",
              "    <tr>\n",
              "      <th>1</th>\n",
              "      <td>1</td>\n",
              "      <td>264.732791</td>\n",
              "      <td>21.452818</td>\n",
              "      <td>13.690746</td>\n",
              "      <td>13.481654</td>\n",
              "    </tr>\n",
              "    <tr>\n",
              "      <th>2</th>\n",
              "      <td>2</td>\n",
              "      <td>326.277472</td>\n",
              "      <td>4.935468</td>\n",
              "      <td>17.250680</td>\n",
              "      <td>39.309275</td>\n",
              "    </tr>\n",
              "    <tr>\n",
              "      <th>3</th>\n",
              "      <td>3</td>\n",
              "      <td>380.316082</td>\n",
              "      <td>32.387473</td>\n",
              "      <td>26.780495</td>\n",
              "      <td>0.184563</td>\n",
              "    </tr>\n",
              "    <tr>\n",
              "      <th>4</th>\n",
              "      <td>4</td>\n",
              "      <td>137.537077</td>\n",
              "      <td>7.995832</td>\n",
              "      <td>6.126593</td>\n",
              "      <td>13.032693</td>\n",
              "    </tr>\n",
              "  </tbody>\n",
              "</table>\n",
              "</div>\n",
              "      <button class=\"colab-df-convert\" onclick=\"convertToInteractive('df-d8ed46de-ac1e-47b1-836e-a54d5b557483')\"\n",
              "              title=\"Convert this dataframe to an interactive table.\"\n",
              "              style=\"display:none;\">\n",
              "        \n",
              "  <svg xmlns=\"http://www.w3.org/2000/svg\" height=\"24px\"viewBox=\"0 0 24 24\"\n",
              "       width=\"24px\">\n",
              "    <path d=\"M0 0h24v24H0V0z\" fill=\"none\"/>\n",
              "    <path d=\"M18.56 5.44l.94 2.06.94-2.06 2.06-.94-2.06-.94-.94-2.06-.94 2.06-2.06.94zm-11 1L8.5 8.5l.94-2.06 2.06-.94-2.06-.94L8.5 2.5l-.94 2.06-2.06.94zm10 10l.94 2.06.94-2.06 2.06-.94-2.06-.94-.94-2.06-.94 2.06-2.06.94z\"/><path d=\"M17.41 7.96l-1.37-1.37c-.4-.4-.92-.59-1.43-.59-.52 0-1.04.2-1.43.59L10.3 9.45l-7.72 7.72c-.78.78-.78 2.05 0 2.83L4 21.41c.39.39.9.59 1.41.59.51 0 1.02-.2 1.41-.59l7.78-7.78 2.81-2.81c.8-.78.8-2.07 0-2.86zM5.41 20L4 18.59l7.72-7.72 1.47 1.35L5.41 20z\"/>\n",
              "  </svg>\n",
              "      </button>\n",
              "      \n",
              "  <style>\n",
              "    .colab-df-container {\n",
              "      display:flex;\n",
              "      flex-wrap:wrap;\n",
              "      gap: 12px;\n",
              "    }\n",
              "\n",
              "    .colab-df-convert {\n",
              "      background-color: #E8F0FE;\n",
              "      border: none;\n",
              "      border-radius: 50%;\n",
              "      cursor: pointer;\n",
              "      display: none;\n",
              "      fill: #1967D2;\n",
              "      height: 32px;\n",
              "      padding: 0 0 0 0;\n",
              "      width: 32px;\n",
              "    }\n",
              "\n",
              "    .colab-df-convert:hover {\n",
              "      background-color: #E2EBFA;\n",
              "      box-shadow: 0px 1px 2px rgba(60, 64, 67, 0.3), 0px 1px 3px 1px rgba(60, 64, 67, 0.15);\n",
              "      fill: #174EA6;\n",
              "    }\n",
              "\n",
              "    [theme=dark] .colab-df-convert {\n",
              "      background-color: #3B4455;\n",
              "      fill: #D2E3FC;\n",
              "    }\n",
              "\n",
              "    [theme=dark] .colab-df-convert:hover {\n",
              "      background-color: #434B5C;\n",
              "      box-shadow: 0px 1px 3px 1px rgba(0, 0, 0, 0.15);\n",
              "      filter: drop-shadow(0px 1px 2px rgba(0, 0, 0, 0.3));\n",
              "      fill: #FFFFFF;\n",
              "    }\n",
              "  </style>\n",
              "\n",
              "      <script>\n",
              "        const buttonEl =\n",
              "          document.querySelector('#df-d8ed46de-ac1e-47b1-836e-a54d5b557483 button.colab-df-convert');\n",
              "        buttonEl.style.display =\n",
              "          google.colab.kernel.accessAllowed ? 'block' : 'none';\n",
              "\n",
              "        async function convertToInteractive(key) {\n",
              "          const element = document.querySelector('#df-d8ed46de-ac1e-47b1-836e-a54d5b557483');\n",
              "          const dataTable =\n",
              "            await google.colab.kernel.invokeFunction('convertToInteractive',\n",
              "                                                     [key], {});\n",
              "          if (!dataTable) return;\n",
              "\n",
              "          const docLinkHtml = 'Like what you see? Visit the ' +\n",
              "            '<a target=\"_blank\" href=https://colab.research.google.com/notebooks/data_table.ipynb>data table notebook</a>'\n",
              "            + ' to learn more about interactive tables.';\n",
              "          element.innerHTML = '';\n",
              "          dataTable['output_type'] = 'display_data';\n",
              "          await google.colab.output.renderOutput(dataTable, element);\n",
              "          const docLink = document.createElement('div');\n",
              "          docLink.innerHTML = docLinkHtml;\n",
              "          element.appendChild(docLink);\n",
              "        }\n",
              "      </script>\n",
              "    </div>\n",
              "  </div>\n",
              "  "
            ]
          },
          "metadata": {},
          "execution_count": 7
        }
      ]
    },
    {
      "cell_type": "code",
      "source": [
        "data = pd.merge(data, weighted_nutrition, on='id')"
      ],
      "metadata": {
        "id": "C8ie9DzKTBOO"
      },
      "execution_count": null,
      "outputs": []
    },
    {
      "cell_type": "code",
      "source": [
        "data.head()"
      ],
      "metadata": {
        "colab": {
          "base_uri": "https://localhost:8080/",
          "height": 270
        },
        "id": "89oq7EMWTFcw",
        "outputId": "bbd5e2da-0049-4355-a7fc-0416d8a953dd"
      },
      "execution_count": null,
      "outputs": [
        {
          "output_type": "execute_result",
          "data": {
            "text/plain": [
              "   id  servings  calories_per_serving  protein_per_serving  fat_per_serving  \\\n",
              "0   1         2                   388                   17               22   \n",
              "1   3        10                   795                   16               39   \n",
              "2   4        12                   384                   17               25   \n",
              "3   8         8                   381                   34               22   \n",
              "4   9        12                   427                   18               12   \n",
              "\n",
              "   carb_per_serving      meal_type          region  weighted_cal  \\\n",
              "0                29           main  latin_american    264.732791   \n",
              "1                96        dessert  latin_american    380.316082   \n",
              "2                25           main  latin_american    137.537077   \n",
              "3                 9  UNK_meal_type  latin_american    321.578552   \n",
              "4                63           main  latin_american    394.862481   \n",
              "\n",
              "   weighted_pro  weighted_fat  weighted_carb  \n",
              "0     21.452818     13.690746      13.481654  \n",
              "1     32.387473     26.780495       0.184563  \n",
              "2      7.995832      6.126593      13.032693  \n",
              "3     15.328963     12.359435      35.918468  \n",
              "4     43.675238     22.453960       1.500357  "
            ],
            "text/html": [
              "\n",
              "  <div id=\"df-d5cdfbfd-ad07-4b36-815d-991281fefe12\">\n",
              "    <div class=\"colab-df-container\">\n",
              "      <div>\n",
              "<style scoped>\n",
              "    .dataframe tbody tr th:only-of-type {\n",
              "        vertical-align: middle;\n",
              "    }\n",
              "\n",
              "    .dataframe tbody tr th {\n",
              "        vertical-align: top;\n",
              "    }\n",
              "\n",
              "    .dataframe thead th {\n",
              "        text-align: right;\n",
              "    }\n",
              "</style>\n",
              "<table border=\"1\" class=\"dataframe\">\n",
              "  <thead>\n",
              "    <tr style=\"text-align: right;\">\n",
              "      <th></th>\n",
              "      <th>id</th>\n",
              "      <th>servings</th>\n",
              "      <th>calories_per_serving</th>\n",
              "      <th>protein_per_serving</th>\n",
              "      <th>fat_per_serving</th>\n",
              "      <th>carb_per_serving</th>\n",
              "      <th>meal_type</th>\n",
              "      <th>region</th>\n",
              "      <th>weighted_cal</th>\n",
              "      <th>weighted_pro</th>\n",
              "      <th>weighted_fat</th>\n",
              "      <th>weighted_carb</th>\n",
              "    </tr>\n",
              "  </thead>\n",
              "  <tbody>\n",
              "    <tr>\n",
              "      <th>0</th>\n",
              "      <td>1</td>\n",
              "      <td>2</td>\n",
              "      <td>388</td>\n",
              "      <td>17</td>\n",
              "      <td>22</td>\n",
              "      <td>29</td>\n",
              "      <td>main</td>\n",
              "      <td>latin_american</td>\n",
              "      <td>264.732791</td>\n",
              "      <td>21.452818</td>\n",
              "      <td>13.690746</td>\n",
              "      <td>13.481654</td>\n",
              "    </tr>\n",
              "    <tr>\n",
              "      <th>1</th>\n",
              "      <td>3</td>\n",
              "      <td>10</td>\n",
              "      <td>795</td>\n",
              "      <td>16</td>\n",
              "      <td>39</td>\n",
              "      <td>96</td>\n",
              "      <td>dessert</td>\n",
              "      <td>latin_american</td>\n",
              "      <td>380.316082</td>\n",
              "      <td>32.387473</td>\n",
              "      <td>26.780495</td>\n",
              "      <td>0.184563</td>\n",
              "    </tr>\n",
              "    <tr>\n",
              "      <th>2</th>\n",
              "      <td>4</td>\n",
              "      <td>12</td>\n",
              "      <td>384</td>\n",
              "      <td>17</td>\n",
              "      <td>25</td>\n",
              "      <td>25</td>\n",
              "      <td>main</td>\n",
              "      <td>latin_american</td>\n",
              "      <td>137.537077</td>\n",
              "      <td>7.995832</td>\n",
              "      <td>6.126593</td>\n",
              "      <td>13.032693</td>\n",
              "    </tr>\n",
              "    <tr>\n",
              "      <th>3</th>\n",
              "      <td>8</td>\n",
              "      <td>8</td>\n",
              "      <td>381</td>\n",
              "      <td>34</td>\n",
              "      <td>22</td>\n",
              "      <td>9</td>\n",
              "      <td>UNK_meal_type</td>\n",
              "      <td>latin_american</td>\n",
              "      <td>321.578552</td>\n",
              "      <td>15.328963</td>\n",
              "      <td>12.359435</td>\n",
              "      <td>35.918468</td>\n",
              "    </tr>\n",
              "    <tr>\n",
              "      <th>4</th>\n",
              "      <td>9</td>\n",
              "      <td>12</td>\n",
              "      <td>427</td>\n",
              "      <td>18</td>\n",
              "      <td>12</td>\n",
              "      <td>63</td>\n",
              "      <td>main</td>\n",
              "      <td>latin_american</td>\n",
              "      <td>394.862481</td>\n",
              "      <td>43.675238</td>\n",
              "      <td>22.453960</td>\n",
              "      <td>1.500357</td>\n",
              "    </tr>\n",
              "  </tbody>\n",
              "</table>\n",
              "</div>\n",
              "      <button class=\"colab-df-convert\" onclick=\"convertToInteractive('df-d5cdfbfd-ad07-4b36-815d-991281fefe12')\"\n",
              "              title=\"Convert this dataframe to an interactive table.\"\n",
              "              style=\"display:none;\">\n",
              "        \n",
              "  <svg xmlns=\"http://www.w3.org/2000/svg\" height=\"24px\"viewBox=\"0 0 24 24\"\n",
              "       width=\"24px\">\n",
              "    <path d=\"M0 0h24v24H0V0z\" fill=\"none\"/>\n",
              "    <path d=\"M18.56 5.44l.94 2.06.94-2.06 2.06-.94-2.06-.94-.94-2.06-.94 2.06-2.06.94zm-11 1L8.5 8.5l.94-2.06 2.06-.94-2.06-.94L8.5 2.5l-.94 2.06-2.06.94zm10 10l.94 2.06.94-2.06 2.06-.94-2.06-.94-.94-2.06-.94 2.06-2.06.94z\"/><path d=\"M17.41 7.96l-1.37-1.37c-.4-.4-.92-.59-1.43-.59-.52 0-1.04.2-1.43.59L10.3 9.45l-7.72 7.72c-.78.78-.78 2.05 0 2.83L4 21.41c.39.39.9.59 1.41.59.51 0 1.02-.2 1.41-.59l7.78-7.78 2.81-2.81c.8-.78.8-2.07 0-2.86zM5.41 20L4 18.59l7.72-7.72 1.47 1.35L5.41 20z\"/>\n",
              "  </svg>\n",
              "      </button>\n",
              "      \n",
              "  <style>\n",
              "    .colab-df-container {\n",
              "      display:flex;\n",
              "      flex-wrap:wrap;\n",
              "      gap: 12px;\n",
              "    }\n",
              "\n",
              "    .colab-df-convert {\n",
              "      background-color: #E8F0FE;\n",
              "      border: none;\n",
              "      border-radius: 50%;\n",
              "      cursor: pointer;\n",
              "      display: none;\n",
              "      fill: #1967D2;\n",
              "      height: 32px;\n",
              "      padding: 0 0 0 0;\n",
              "      width: 32px;\n",
              "    }\n",
              "\n",
              "    .colab-df-convert:hover {\n",
              "      background-color: #E2EBFA;\n",
              "      box-shadow: 0px 1px 2px rgba(60, 64, 67, 0.3), 0px 1px 3px 1px rgba(60, 64, 67, 0.15);\n",
              "      fill: #174EA6;\n",
              "    }\n",
              "\n",
              "    [theme=dark] .colab-df-convert {\n",
              "      background-color: #3B4455;\n",
              "      fill: #D2E3FC;\n",
              "    }\n",
              "\n",
              "    [theme=dark] .colab-df-convert:hover {\n",
              "      background-color: #434B5C;\n",
              "      box-shadow: 0px 1px 3px 1px rgba(0, 0, 0, 0.15);\n",
              "      filter: drop-shadow(0px 1px 2px rgba(0, 0, 0, 0.3));\n",
              "      fill: #FFFFFF;\n",
              "    }\n",
              "  </style>\n",
              "\n",
              "      <script>\n",
              "        const buttonEl =\n",
              "          document.querySelector('#df-d5cdfbfd-ad07-4b36-815d-991281fefe12 button.colab-df-convert');\n",
              "        buttonEl.style.display =\n",
              "          google.colab.kernel.accessAllowed ? 'block' : 'none';\n",
              "\n",
              "        async function convertToInteractive(key) {\n",
              "          const element = document.querySelector('#df-d5cdfbfd-ad07-4b36-815d-991281fefe12');\n",
              "          const dataTable =\n",
              "            await google.colab.kernel.invokeFunction('convertToInteractive',\n",
              "                                                     [key], {});\n",
              "          if (!dataTable) return;\n",
              "\n",
              "          const docLinkHtml = 'Like what you see? Visit the ' +\n",
              "            '<a target=\"_blank\" href=https://colab.research.google.com/notebooks/data_table.ipynb>data table notebook</a>'\n",
              "            + ' to learn more about interactive tables.';\n",
              "          element.innerHTML = '';\n",
              "          dataTable['output_type'] = 'display_data';\n",
              "          await google.colab.output.renderOutput(dataTable, element);\n",
              "          const docLink = document.createElement('div');\n",
              "          docLink.innerHTML = docLinkHtml;\n",
              "          element.appendChild(docLink);\n",
              "        }\n",
              "      </script>\n",
              "    </div>\n",
              "  </div>\n",
              "  "
            ]
          },
          "metadata": {},
          "execution_count": 9
        }
      ]
    },
    {
      "cell_type": "markdown",
      "source": [
        "# Load images, split data into train and test"
      ],
      "metadata": {
        "id": "MSQCjpH0RguI"
      }
    },
    {
      "cell_type": "code",
      "source": [
        "images = []\n",
        "imgzip = zipfile.ZipFile(\"Recipe_Images_224_x_224.zip\")\n",
        "for f in tqdm(imgzip.infolist()):\n",
        "    ifile = imgzip.open(f)\n",
        "    img = np.asarray(Image.open(ifile))\n",
        "    images.append(img)"
      ],
      "metadata": {
        "colab": {
          "base_uri": "https://localhost:8080/"
        },
        "id": "LDjm0QeLRQr6",
        "outputId": "cf4af8b2-3e30-4612-c753-d1e626523b44"
      },
      "execution_count": null,
      "outputs": [
        {
          "output_type": "stream",
          "name": "stderr",
          "text": [
            "100%|██████████| 8573/8573 [00:16<00:00, 535.70it/s]\n"
          ]
        }
      ]
    },
    {
      "cell_type": "code",
      "source": [
        "data['stratify_split'] = data['meal_type'] + data['region']"
      ],
      "metadata": {
        "id": "Icjccz9ZTJtI"
      },
      "execution_count": null,
      "outputs": []
    },
    {
      "cell_type": "code",
      "source": [
        "data['stratify_split'].value_counts()"
      ],
      "metadata": {
        "colab": {
          "base_uri": "https://localhost:8080/"
        },
        "id": "2baXOQ-ZTUcA",
        "outputId": "bfda10d7-3dc2-4350-f0c8-6147cbb6312b"
      },
      "execution_count": null,
      "outputs": [
        {
          "output_type": "execute_result",
          "data": {
            "text/plain": [
              "UNK_meal_typeusa                       1075\n",
              "UNK_meal_typeeuropean                   542\n",
              "dessertusa                              451\n",
              "maineuropean                            252\n",
              "UNK_meal_typelatin_american             223\n",
              "mainasian                               215\n",
              "mainlatin_american                      214\n",
              "mainusa                                 202\n",
              "saladusa                                177\n",
              "sideusa                                 138\n",
              "desserteuropean                         135\n",
              "breadusa                                114\n",
              "soups_and_stewsusa                      108\n",
              "appetizereuropean                       107\n",
              "UNK_meal_typemiddle_eastern             102\n",
              "breadeuropean                           100\n",
              "UNK_meal_typeasian                       92\n",
              "saladeuropean                            83\n",
              "appetizerusa                             81\n",
              "sideeuropean                             74\n",
              "soups_and_stewseuropean                  64\n",
              "appetizerasian                           56\n",
              "dessertlatin_american                    53\n",
              "soups_and_stewsasian                     52\n",
              "dessertasian                             51\n",
              "UNK_meal_typeaustrailia_new_zealand      48\n",
              "saladlatin_american                      46\n",
              "appetizerlatin_american                  44\n",
              "mainafrican                              37\n",
              "sidelatin_american                       36\n",
              "UNK_meal_typeafrican                     32\n",
              "soups_and_stewsafrican                   32\n",
              "breadlatin_american                      30\n",
              "soups_and_stewslatin_american            30\n",
              "sideasian                                26\n",
              "drinkseuropean                           22\n",
              "drinksasian                              18\n",
              "sideafrican                              16\n",
              "breadasian                               15\n",
              "drinkslatin_american                      9\n",
              "saladasian                                4\n",
              "saladmiddle_eastern                       3\n",
              "appetizermiddle_eastern                   3\n",
              "mainmiddle_eastern                        2\n",
              "sidemiddle_eastern                        2\n",
              "dessertaustrailia_new_zealand             1\n",
              "breadmiddle_eastern                       1\n",
              "dessertmiddle_eastern                     1\n",
              "Name: stratify_split, dtype: int64"
            ]
          },
          "metadata": {},
          "execution_count": 12
        }
      ]
    },
    {
      "cell_type": "code",
      "source": [
        "drop_stratify_split = ['dessertaustrailia_new_zealand', 'breadmiddle_eastern', 'dessertmiddle_eastern']\n",
        "data = data[~data['stratify_split'].isin(drop_stratify_split)]"
      ],
      "metadata": {
        "id": "rN8ftB9KTSGh"
      },
      "execution_count": null,
      "outputs": []
    },
    {
      "cell_type": "code",
      "source": [
        "train_df, test_df = train_test_split(data, test_size = 0.2, random_state = SEED, stratify=data[['stratify_split']])"
      ],
      "metadata": {
        "id": "UGfMxFF_TXr5"
      },
      "execution_count": null,
      "outputs": []
    },
    {
      "cell_type": "code",
      "source": [
        "train_idx = train_df['id'].values\n",
        "test_idx = test_df['id'].values\n",
        "train_images = np.array([images[idx] for idx in train_idx])\n",
        "test_images = np.array([images[idx] for idx in test_idx])"
      ],
      "metadata": {
        "id": "FvH1DuKDTbIX"
      },
      "execution_count": null,
      "outputs": []
    },
    {
      "cell_type": "code",
      "source": [
        "train_y = np.column_stack(\n",
        "    (train_df['calories_per_serving'].values,\n",
        "     train_df['protein_per_serving'].values,\n",
        "     train_df['fat_per_serving'].values,\n",
        "     train_df['carb_per_serving'].values)\n",
        ")\n",
        "test_y = np.column_stack(\n",
        "    (test_df['calories_per_serving'].values,\n",
        "     test_df['protein_per_serving'].values,\n",
        "     test_df['fat_per_serving'].values,\n",
        "     test_df['carb_per_serving'].values)\n",
        ")"
      ],
      "metadata": {
        "id": "qMnRRSHdUBh9"
      },
      "execution_count": null,
      "outputs": []
    },
    {
      "cell_type": "code",
      "source": [
        "one_hot_enc = OneHotEncoder(sparse = False)\n",
        "train_df_tabular = train_df[['meal_type', 'region']]\n",
        "train_tabular = one_hot_enc.fit_transform(train_df_tabular)\n",
        "test_df_tabular = test_df[['meal_type', 'region']]\n",
        "test_tabular = one_hot_enc.transform(test_df_tabular)"
      ],
      "metadata": {
        "id": "xkZDd7_gUCHE"
      },
      "execution_count": null,
      "outputs": []
    },
    {
      "cell_type": "code",
      "source": [
        "cont_col = ['weighted_cal', 'weighted_pro',\t'weighted_fat',\t'weighted_carb']\n",
        "train_df_cont = train_df[cont_col]\n",
        "test_df_cont = test_df[cont_col]"
      ],
      "metadata": {
        "id": "1wqJsEguUWvV"
      },
      "execution_count": null,
      "outputs": []
    },
    {
      "cell_type": "code",
      "source": [
        "train_tabular.shape"
      ],
      "metadata": {
        "colab": {
          "base_uri": "https://localhost:8080/"
        },
        "id": "c_AbGEiNVjVt",
        "outputId": "88767ed8-dbfe-450a-c10c-67d10ea079e1"
      },
      "execution_count": null,
      "outputs": [
        {
          "output_type": "execute_result",
          "data": {
            "text/plain": [
              "(4172, 16)"
            ]
          },
          "metadata": {},
          "execution_count": 19
        }
      ]
    },
    {
      "cell_type": "code",
      "source": [
        "train_df_cont.to_numpy().shape"
      ],
      "metadata": {
        "colab": {
          "base_uri": "https://localhost:8080/"
        },
        "id": "lm2PigvKVaOv",
        "outputId": "cc1e5dc7-b1f8-4841-ef37-0679adb7c0a0"
      },
      "execution_count": null,
      "outputs": [
        {
          "output_type": "execute_result",
          "data": {
            "text/plain": [
              "(4172, 4)"
            ]
          },
          "metadata": {},
          "execution_count": 20
        }
      ]
    },
    {
      "cell_type": "code",
      "source": [
        "train_tab_arr = np.concatenate((train_tabular, train_df_cont.to_numpy()), axis=1)\n",
        "test_tab_arr = np.concatenate((test_tabular, test_df_cont.to_numpy()), axis=1)"
      ],
      "metadata": {
        "id": "0u3EUW0WVFsJ"
      },
      "execution_count": null,
      "outputs": []
    },
    {
      "cell_type": "code",
      "source": [
        "scaler = StandardScaler()\n",
        "train_tab_arr = scaler.fit_transform(train_tab_arr)\n",
        "test_tab_arr = scaler.transform(test_tab_arr)"
      ],
      "metadata": {
        "id": "7mRyYzTcezY_"
      },
      "execution_count": null,
      "outputs": []
    },
    {
      "cell_type": "markdown",
      "source": [
        "# Create model\n"
      ],
      "metadata": {
        "id": "LtJUBqB3U0go"
      }
    },
    {
      "cell_type": "code",
      "source": [
        "IMG_SHAPE = (224, 224, 3)"
      ],
      "metadata": {
        "id": "4hFwo6MmUrso"
      },
      "execution_count": null,
      "outputs": []
    },
    {
      "cell_type": "code",
      "source": [
        "def create_cnn(IMG_SHAPE, fine_tune=False, fine_tune_at=0):\n",
        "    data_augmentation = tf.keras.Sequential([\n",
        "        tf.keras.layers.RandomFlip('horizontal'),\n",
        "        tf.keras.layers.RandomRotation(0.2),\n",
        "    ])\n",
        "    base_model = DenseNet121(weights='imagenet', include_top=False, input_shape=IMG_SHAPE)\n",
        "    base_model.trainable = False\n",
        "    if fine_tune:\n",
        "        fine_tune_at = fine_tune_at\n",
        "        for layer in base_model.layers[-fine_tune_at:]:\n",
        "            if not isinstance(layer, layers.BatchNormalization):\n",
        "                layer.trainable = True\n",
        "\n",
        "    inputs = tf.keras.Input(shape=(224, 224, 3))\n",
        "    x = data_augmentation(inputs)\n",
        "    x = preprocess_input(x)\n",
        "    x = base_model(x, training = False)\n",
        "    x = GlobalAveragePooling2D()(x)\n",
        "    x = Dropout(0.2)(x)\n",
        "    outputs = Dense(4, activation='relu')(x)\n",
        "    model = Model(inputs, x)\n",
        "    return model\n",
        "\n",
        "\n",
        "def create_mlp(dim):\n",
        "    model = Sequential()\n",
        "    model.add(Dense(16, input_dim=dim, activation='relu'))\n",
        "    model.add(Dropout(0.2))\n",
        "    model.add(Dense(4, activation='relu'))\n",
        "    return model"
      ],
      "metadata": {
        "id": "cjZSiuxfU3QW"
      },
      "execution_count": null,
      "outputs": []
    },
    {
      "cell_type": "code",
      "source": [
        "mlp = create_mlp(train_tab_arr.shape[1])\n",
        "cnn = create_cnn(IMG_SHAPE)\n",
        "\n",
        "combined_input = concatenate([mlp.output, cnn.output])\n",
        "\n",
        "x = Dense(8, activation = 'relu')(combined_input)\n",
        "x = Dense(4, activation = 'linear')(x)\n",
        "\n",
        "model = tf.keras.Model(inputs = [mlp.input, cnn.input], outputs = x)\n",
        "model.compile(\n",
        "    optimizer = tf.keras.optimizers.Adam(learning_rate=0.001),\n",
        "    loss = 'huber_loss',\n",
        "    metrics = ['mean_absolute_error']\n",
        ")\n",
        "model.summary()"
      ],
      "metadata": {
        "colab": {
          "base_uri": "https://localhost:8080/"
        },
        "id": "5lj4z_1mWSty",
        "outputId": "0c334421-6d66-4783-9203-28bbb9e85407"
      },
      "execution_count": null,
      "outputs": [
        {
          "output_type": "stream",
          "name": "stdout",
          "text": [
            "Downloading data from https://storage.googleapis.com/tensorflow/keras-applications/densenet/densenet121_weights_tf_dim_ordering_tf_kernels_notop.h5\n",
            "29084464/29084464 [==============================] - 2s 0us/step\n",
            "Model: \"model_1\"\n",
            "__________________________________________________________________________________________________\n",
            " Layer (type)                   Output Shape         Param #     Connected to                     \n",
            "==================================================================================================\n",
            " input_2 (InputLayer)           [(None, 224, 224, 3  0           []                               \n",
            "                                )]                                                                \n",
            "                                                                                                  \n",
            " sequential_1 (Sequential)      (None, 224, 224, 3)  0           ['input_2[0][0]']                \n",
            "                                                                                                  \n",
            " tf.math.truediv (TFOpLambda)   (None, 224, 224, 3)  0           ['sequential_1[0][0]']           \n",
            "                                                                                                  \n",
            " tf.nn.bias_add (TFOpLambda)    (None, 224, 224, 3)  0           ['tf.math.truediv[0][0]']        \n",
            "                                                                                                  \n",
            " dense_input (InputLayer)       [(None, 20)]         0           []                               \n",
            "                                                                                                  \n",
            " tf.math.truediv_1 (TFOpLambda)  (None, 224, 224, 3)  0          ['tf.nn.bias_add[0][0]']         \n",
            "                                                                                                  \n",
            " dense (Dense)                  (None, 16)           336         ['dense_input[0][0]']            \n",
            "                                                                                                  \n",
            " densenet121 (Functional)       (None, 7, 7, 1024)   7037504     ['tf.math.truediv_1[0][0]']      \n",
            "                                                                                                  \n",
            " dropout (Dropout)              (None, 16)           0           ['dense[0][0]']                  \n",
            "                                                                                                  \n",
            " global_average_pooling2d (Glob  (None, 1024)        0           ['densenet121[0][0]']            \n",
            " alAveragePooling2D)                                                                              \n",
            "                                                                                                  \n",
            " dense_1 (Dense)                (None, 4)            68          ['dropout[0][0]']                \n",
            "                                                                                                  \n",
            " dropout_1 (Dropout)            (None, 1024)         0           ['global_average_pooling2d[0][0]'\n",
            "                                                                 ]                                \n",
            "                                                                                                  \n",
            " concatenate (Concatenate)      (None, 1028)         0           ['dense_1[0][0]',                \n",
            "                                                                  'dropout_1[0][0]']              \n",
            "                                                                                                  \n",
            " dense_3 (Dense)                (None, 8)            8232        ['concatenate[0][0]']            \n",
            "                                                                                                  \n",
            " dense_4 (Dense)                (None, 4)            36          ['dense_3[0][0]']                \n",
            "                                                                                                  \n",
            "==================================================================================================\n",
            "Total params: 7,046,176\n",
            "Trainable params: 8,672\n",
            "Non-trainable params: 7,037,504\n",
            "__________________________________________________________________________________________________\n"
          ]
        }
      ]
    },
    {
      "cell_type": "code",
      "source": [
        "es = EarlyStopping(monitor='val_loss', patience=3, restore_best_weights=True)\n",
        "initial_epochs = 500\n",
        "history = model.fit(\n",
        "    x = [train_tab_arr, train_images],\n",
        "    y = train_y,\n",
        "    batch_size = 32,\n",
        "    epochs = initial_epochs,\n",
        "    validation_split = 0.2,\n",
        "    callbacks = [es]\n",
        ")\n",
        "model.save_weights('initial_multiin_101_multiout_densenet.h5')"
      ],
      "metadata": {
        "colab": {
          "base_uri": "https://localhost:8080/"
        },
        "id": "48rSrO1PWmaq",
        "outputId": "bfac0d6d-5385-48c3-fbe2-8acee6370b82"
      },
      "execution_count": null,
      "outputs": [
        {
          "output_type": "stream",
          "name": "stdout",
          "text": [
            "Epoch 1/500\n",
            "105/105 [==============================] - 32s 166ms/step - loss: 93.4414 - mean_absolute_error: 93.9374 - val_loss: 80.4410 - val_mean_absolute_error: 80.9371\n",
            "Epoch 2/500\n",
            "105/105 [==============================] - 14s 137ms/step - loss: 76.7346 - mean_absolute_error: 77.2267 - val_loss: 61.4151 - val_mean_absolute_error: 61.9063\n",
            "Epoch 3/500\n",
            "105/105 [==============================] - 14s 132ms/step - loss: 58.2878 - mean_absolute_error: 58.7808 - val_loss: 47.6271 - val_mean_absolute_error: 48.1200\n",
            "Epoch 4/500\n",
            "105/105 [==============================] - 14s 136ms/step - loss: 51.4471 - mean_absolute_error: 51.9397 - val_loss: 46.2785 - val_mean_absolute_error: 46.7711\n",
            "Epoch 5/500\n",
            "105/105 [==============================] - 14s 130ms/step - loss: 50.0768 - mean_absolute_error: 50.5691 - val_loss: 45.7650 - val_mean_absolute_error: 46.2569\n",
            "Epoch 6/500\n",
            "105/105 [==============================] - 14s 130ms/step - loss: 49.2840 - mean_absolute_error: 49.7766 - val_loss: 45.6133 - val_mean_absolute_error: 46.1057\n",
            "Epoch 7/500\n",
            "105/105 [==============================] - 14s 138ms/step - loss: 48.7497 - mean_absolute_error: 49.2414 - val_loss: 45.6137 - val_mean_absolute_error: 46.1060\n",
            "Epoch 8/500\n",
            "105/105 [==============================] - 14s 131ms/step - loss: 48.3573 - mean_absolute_error: 48.8489 - val_loss: 45.4491 - val_mean_absolute_error: 45.9402\n",
            "Epoch 9/500\n",
            "105/105 [==============================] - 14s 130ms/step - loss: 48.2150 - mean_absolute_error: 48.7070 - val_loss: 45.4321 - val_mean_absolute_error: 45.9234\n",
            "Epoch 10/500\n",
            "105/105 [==============================] - 14s 136ms/step - loss: 48.0355 - mean_absolute_error: 48.5267 - val_loss: 45.2897 - val_mean_absolute_error: 45.7797\n",
            "Epoch 11/500\n",
            "105/105 [==============================] - 14s 130ms/step - loss: 47.9455 - mean_absolute_error: 48.4374 - val_loss: 45.2191 - val_mean_absolute_error: 45.7102\n",
            "Epoch 12/500\n",
            "105/105 [==============================] - 13s 128ms/step - loss: 48.0005 - mean_absolute_error: 48.4918 - val_loss: 45.2548 - val_mean_absolute_error: 45.7470\n",
            "Epoch 13/500\n",
            "105/105 [==============================] - 14s 136ms/step - loss: 47.9054 - mean_absolute_error: 48.3967 - val_loss: 45.1424 - val_mean_absolute_error: 45.6322\n",
            "Epoch 14/500\n",
            "105/105 [==============================] - 13s 129ms/step - loss: 47.7166 - mean_absolute_error: 48.2081 - val_loss: 45.2327 - val_mean_absolute_error: 45.7233\n",
            "Epoch 15/500\n",
            "105/105 [==============================] - 13s 128ms/step - loss: 47.9978 - mean_absolute_error: 48.4891 - val_loss: 45.2185 - val_mean_absolute_error: 45.7102\n",
            "Epoch 16/500\n",
            "105/105 [==============================] - 14s 138ms/step - loss: 47.6131 - mean_absolute_error: 48.1042 - val_loss: 45.1181 - val_mean_absolute_error: 45.6100\n",
            "Epoch 17/500\n",
            "105/105 [==============================] - 14s 131ms/step - loss: 47.5520 - mean_absolute_error: 48.0436 - val_loss: 45.2905 - val_mean_absolute_error: 45.7836\n",
            "Epoch 18/500\n",
            "105/105 [==============================] - 14s 131ms/step - loss: 47.8100 - mean_absolute_error: 48.3022 - val_loss: 44.9986 - val_mean_absolute_error: 45.4879\n",
            "Epoch 19/500\n",
            "105/105 [==============================] - 14s 132ms/step - loss: 47.7119 - mean_absolute_error: 48.2036 - val_loss: 45.2545 - val_mean_absolute_error: 45.7456\n",
            "Epoch 20/500\n",
            "105/105 [==============================] - 14s 129ms/step - loss: 47.5093 - mean_absolute_error: 48.0008 - val_loss: 45.0850 - val_mean_absolute_error: 45.5754\n",
            "Epoch 21/500\n",
            "105/105 [==============================] - 15s 144ms/step - loss: 47.5431 - mean_absolute_error: 48.0349 - val_loss: 45.2953 - val_mean_absolute_error: 45.7878\n"
          ]
        }
      ]
    },
    {
      "cell_type": "code",
      "source": [
        "model.load_weights('initial_multiin_101_multiout_densenet.h5')"
      ],
      "metadata": {
        "id": "cNAktdv-U7tb"
      },
      "execution_count": null,
      "outputs": []
    },
    {
      "cell_type": "code",
      "source": [
        "test_preds = model.predict([test_tab_arr, test_images])\n",
        "mae_cal = mean_absolute_error(test_y[:,0:1], test_preds[:,0:1])\n",
        "mae_pro = mean_absolute_error(test_y[:,1:2], test_preds[:,1:2])\n",
        "mae_fat = mean_absolute_error(test_y[:,2:3], test_preds[:,2:3])\n",
        "mae_carb = mean_absolute_error(test_y[:,3:4], test_preds[:,3:4])\n",
        "print(mae_cal, mae_pro, mae_fat, mae_carb)"
      ],
      "metadata": {
        "colab": {
          "base_uri": "https://localhost:8080/"
        },
        "id": "L3MO2IjYXEHA",
        "outputId": "becab274-9d0a-4e19-cbf3-906ec69450f7"
      },
      "execution_count": null,
      "outputs": [
        {
          "output_type": "stream",
          "name": "stdout",
          "text": [
            "33/33 [==============================] - 15s 116ms/step\n",
            "147.78520779956804 9.429854969640344 9.836254071458546 17.34814895615267\n"
          ]
        }
      ]
    }
  ]
}