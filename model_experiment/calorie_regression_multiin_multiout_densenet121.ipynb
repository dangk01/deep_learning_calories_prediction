{
  "cells": [
    {
      "cell_type": "code",
      "execution_count": 1,
      "metadata": {
        "colab": {
          "base_uri": "https://localhost:8080/"
        },
        "id": "ULZpah5JldjG",
        "outputId": "892ee800-53c6-47de-f204-d55099f87385"
      },
      "outputs": [
        {
          "output_type": "stream",
          "name": "stdout",
          "text": [
            "Mounted at /content/drive\n"
          ]
        }
      ],
      "source": [
        "import os\n",
        "from google.colab import drive\n",
        "drive.mount('/content/drive')\n",
        "os.chdir('drive/My Drive/Colab Notebooks/UMich/SI670/Final_Proj')"
      ]
    },
    {
      "cell_type": "code",
      "execution_count": 2,
      "metadata": {
        "colab": {
          "base_uri": "https://localhost:8080/"
        },
        "id": "H2v1YCgal1Tv",
        "outputId": "7a54957d-7be7-461c-b89b-d3c9db909906"
      },
      "outputs": [
        {
          "output_type": "stream",
          "name": "stdout",
          "text": [
            " calorie_regression_baseline.ipynb\n",
            " calorie_regression_basic_densenet121.ipynb\n",
            " calorie_regression_multiin_101_multiout.ipynb\n",
            " calorie_regression_multiin_emb_multiout_densenet121.ipynb\n",
            " calorie_regression_multiin_multiout_densenet121.ipynb\n",
            " calorie_regression_multiout_densenet121.ipynb\n",
            " clean_recipe_data_nutrition.csv\n",
            "'EfficientNetV2B0 calorie_regression_multiin_101_multiout.ipynb'\n",
            " file.txt\n",
            " food-101\n",
            " food101_id2label.json\n",
            " food101_label2id.json\n",
            " food101_nutritionix.csv\n",
            " food-101.tar.gz\n",
            " get_recipe_images.ipynb\n",
            " huggingface_food101_swin.ipynb\n",
            " initial_multiin_101_multiout_densenet.h5\n",
            " initial_multiin_101_multiout_efficientnetb0.h5\n",
            " initial_multiin_101_multiout_efficientnetv2b0.h5\n",
            " initial_multiin_101_multiout_mobilenet.h5\n",
            " initial_multiin_101_multiout_NASNetMobile.h5\n",
            " initial_multiin_multiout_densenet_2.h5\n",
            " initial_multiin_multiout_densenet.h5\n",
            "'mobileNetV2 calorie_regression_multiin_101_multiout.ipynb'\n",
            " My_suffering.ipynb\n",
            "'NASNetMobile calorie_regression_multiin_101_multiout.ipynb'\n",
            " no_cat_calorie_regression_multiin_101_multiout.ipynb\n",
            " no_cat_initial_multiin_101_multiout_densenet.h5\n",
            " recipe_data_nutrition.csv\n",
            " Recipe_Images\n",
            " Recipe_Images_224_x_224\n",
            " Recipe_Images_224_x_224.zip\n",
            " weighted_nutrition.csv\n"
          ]
        }
      ],
      "source": [
        "!ls"
      ]
    },
    {
      "cell_type": "code",
      "execution_count": 3,
      "metadata": {
        "id": "sGF0fc9PlJo2"
      },
      "outputs": [],
      "source": [
        "from google.colab import runtime\n",
        "import pandas as pd\n",
        "from tqdm import tqdm\n",
        "import requests\n",
        "import cv2\n",
        "import numpy as np\n",
        "import tensorflow as tf\n",
        "from keras.applications.densenet import DenseNet121, preprocess_input\n",
        "import numpy as np\n",
        "import os\n",
        "from sklearn.model_selection import train_test_split\n",
        "from sklearn.preprocessing import OneHotEncoder\n",
        "from sklearn.metrics import mean_absolute_error, mean_absolute_percentage_error\n",
        "from tensorflow import keras\n",
        "from tensorflow.keras import layers\n",
        "from tensorflow.keras.layers import Dense, Input, InputLayer, Flatten, GlobalAveragePooling2D, Dropout, concatenate\n",
        "from tensorflow.keras.models import Sequential, Model\n",
        "from tensorflow.keras.callbacks import EarlyStopping\n",
        "from PIL import Image\n",
        "import zipfile\n",
        "from  matplotlib import pyplot as plt\n",
        "import matplotlib.image as mpimg\n",
        "%matplotlib inline"
      ]
    },
    {
      "cell_type": "code",
      "source": [
        "SEED = 670"
      ],
      "metadata": {
        "id": "RXn_HsF7GTih"
      },
      "execution_count": 4,
      "outputs": []
    },
    {
      "cell_type": "markdown",
      "source": [
        "# Load Data and Preprocess"
      ],
      "metadata": {
        "id": "4QLbOqltL6_M"
      }
    },
    {
      "cell_type": "markdown",
      "source": [
        "Basic preprocessing, remove unneeded columns, replace NAs with UNK"
      ],
      "metadata": {
        "id": "SFRuFRirLnbH"
      }
    },
    {
      "cell_type": "code",
      "execution_count": 5,
      "metadata": {
        "id": "h6c6Kxh4lPE-",
        "colab": {
          "base_uri": "https://localhost:8080/",
          "height": 206
        },
        "outputId": "d484475a-967e-4b78-ee3d-e8f676848c71"
      },
      "outputs": [
        {
          "output_type": "execute_result",
          "data": {
            "text/plain": [
              "   id  servings  calories_per_serving  protein_per_serving  fat_per_serving  \\\n",
              "0   1         2                   388                   17               22   \n",
              "1   3        10                   795                   16               39   \n",
              "2   4        12                   384                   17               25   \n",
              "3   8         8                   381                   34               22   \n",
              "4   9        12                   427                   18               12   \n",
              "\n",
              "   carb_per_serving      meal_type          region  \n",
              "0                29           main  latin_american  \n",
              "1                96        dessert  latin_american  \n",
              "2                25           main  latin_american  \n",
              "3                 9  UNK_meal_type  latin_american  \n",
              "4                63           main  latin_american  "
            ],
            "text/html": [
              "\n",
              "  <div id=\"df-b50b10dc-989c-421f-ac67-b8742c8c2f98\">\n",
              "    <div class=\"colab-df-container\">\n",
              "      <div>\n",
              "<style scoped>\n",
              "    .dataframe tbody tr th:only-of-type {\n",
              "        vertical-align: middle;\n",
              "    }\n",
              "\n",
              "    .dataframe tbody tr th {\n",
              "        vertical-align: top;\n",
              "    }\n",
              "\n",
              "    .dataframe thead th {\n",
              "        text-align: right;\n",
              "    }\n",
              "</style>\n",
              "<table border=\"1\" class=\"dataframe\">\n",
              "  <thead>\n",
              "    <tr style=\"text-align: right;\">\n",
              "      <th></th>\n",
              "      <th>id</th>\n",
              "      <th>servings</th>\n",
              "      <th>calories_per_serving</th>\n",
              "      <th>protein_per_serving</th>\n",
              "      <th>fat_per_serving</th>\n",
              "      <th>carb_per_serving</th>\n",
              "      <th>meal_type</th>\n",
              "      <th>region</th>\n",
              "    </tr>\n",
              "  </thead>\n",
              "  <tbody>\n",
              "    <tr>\n",
              "      <th>0</th>\n",
              "      <td>1</td>\n",
              "      <td>2</td>\n",
              "      <td>388</td>\n",
              "      <td>17</td>\n",
              "      <td>22</td>\n",
              "      <td>29</td>\n",
              "      <td>main</td>\n",
              "      <td>latin_american</td>\n",
              "    </tr>\n",
              "    <tr>\n",
              "      <th>1</th>\n",
              "      <td>3</td>\n",
              "      <td>10</td>\n",
              "      <td>795</td>\n",
              "      <td>16</td>\n",
              "      <td>39</td>\n",
              "      <td>96</td>\n",
              "      <td>dessert</td>\n",
              "      <td>latin_american</td>\n",
              "    </tr>\n",
              "    <tr>\n",
              "      <th>2</th>\n",
              "      <td>4</td>\n",
              "      <td>12</td>\n",
              "      <td>384</td>\n",
              "      <td>17</td>\n",
              "      <td>25</td>\n",
              "      <td>25</td>\n",
              "      <td>main</td>\n",
              "      <td>latin_american</td>\n",
              "    </tr>\n",
              "    <tr>\n",
              "      <th>3</th>\n",
              "      <td>8</td>\n",
              "      <td>8</td>\n",
              "      <td>381</td>\n",
              "      <td>34</td>\n",
              "      <td>22</td>\n",
              "      <td>9</td>\n",
              "      <td>UNK_meal_type</td>\n",
              "      <td>latin_american</td>\n",
              "    </tr>\n",
              "    <tr>\n",
              "      <th>4</th>\n",
              "      <td>9</td>\n",
              "      <td>12</td>\n",
              "      <td>427</td>\n",
              "      <td>18</td>\n",
              "      <td>12</td>\n",
              "      <td>63</td>\n",
              "      <td>main</td>\n",
              "      <td>latin_american</td>\n",
              "    </tr>\n",
              "  </tbody>\n",
              "</table>\n",
              "</div>\n",
              "      <button class=\"colab-df-convert\" onclick=\"convertToInteractive('df-b50b10dc-989c-421f-ac67-b8742c8c2f98')\"\n",
              "              title=\"Convert this dataframe to an interactive table.\"\n",
              "              style=\"display:none;\">\n",
              "        \n",
              "  <svg xmlns=\"http://www.w3.org/2000/svg\" height=\"24px\"viewBox=\"0 0 24 24\"\n",
              "       width=\"24px\">\n",
              "    <path d=\"M0 0h24v24H0V0z\" fill=\"none\"/>\n",
              "    <path d=\"M18.56 5.44l.94 2.06.94-2.06 2.06-.94-2.06-.94-.94-2.06-.94 2.06-2.06.94zm-11 1L8.5 8.5l.94-2.06 2.06-.94-2.06-.94L8.5 2.5l-.94 2.06-2.06.94zm10 10l.94 2.06.94-2.06 2.06-.94-2.06-.94-.94-2.06-.94 2.06-2.06.94z\"/><path d=\"M17.41 7.96l-1.37-1.37c-.4-.4-.92-.59-1.43-.59-.52 0-1.04.2-1.43.59L10.3 9.45l-7.72 7.72c-.78.78-.78 2.05 0 2.83L4 21.41c.39.39.9.59 1.41.59.51 0 1.02-.2 1.41-.59l7.78-7.78 2.81-2.81c.8-.78.8-2.07 0-2.86zM5.41 20L4 18.59l7.72-7.72 1.47 1.35L5.41 20z\"/>\n",
              "  </svg>\n",
              "      </button>\n",
              "      \n",
              "  <style>\n",
              "    .colab-df-container {\n",
              "      display:flex;\n",
              "      flex-wrap:wrap;\n",
              "      gap: 12px;\n",
              "    }\n",
              "\n",
              "    .colab-df-convert {\n",
              "      background-color: #E8F0FE;\n",
              "      border: none;\n",
              "      border-radius: 50%;\n",
              "      cursor: pointer;\n",
              "      display: none;\n",
              "      fill: #1967D2;\n",
              "      height: 32px;\n",
              "      padding: 0 0 0 0;\n",
              "      width: 32px;\n",
              "    }\n",
              "\n",
              "    .colab-df-convert:hover {\n",
              "      background-color: #E2EBFA;\n",
              "      box-shadow: 0px 1px 2px rgba(60, 64, 67, 0.3), 0px 1px 3px 1px rgba(60, 64, 67, 0.15);\n",
              "      fill: #174EA6;\n",
              "    }\n",
              "\n",
              "    [theme=dark] .colab-df-convert {\n",
              "      background-color: #3B4455;\n",
              "      fill: #D2E3FC;\n",
              "    }\n",
              "\n",
              "    [theme=dark] .colab-df-convert:hover {\n",
              "      background-color: #434B5C;\n",
              "      box-shadow: 0px 1px 3px 1px rgba(0, 0, 0, 0.15);\n",
              "      filter: drop-shadow(0px 1px 2px rgba(0, 0, 0, 0.3));\n",
              "      fill: #FFFFFF;\n",
              "    }\n",
              "  </style>\n",
              "\n",
              "      <script>\n",
              "        const buttonEl =\n",
              "          document.querySelector('#df-b50b10dc-989c-421f-ac67-b8742c8c2f98 button.colab-df-convert');\n",
              "        buttonEl.style.display =\n",
              "          google.colab.kernel.accessAllowed ? 'block' : 'none';\n",
              "\n",
              "        async function convertToInteractive(key) {\n",
              "          const element = document.querySelector('#df-b50b10dc-989c-421f-ac67-b8742c8c2f98');\n",
              "          const dataTable =\n",
              "            await google.colab.kernel.invokeFunction('convertToInteractive',\n",
              "                                                     [key], {});\n",
              "          if (!dataTable) return;\n",
              "\n",
              "          const docLinkHtml = 'Like what you see? Visit the ' +\n",
              "            '<a target=\"_blank\" href=https://colab.research.google.com/notebooks/data_table.ipynb>data table notebook</a>'\n",
              "            + ' to learn more about interactive tables.';\n",
              "          element.innerHTML = '';\n",
              "          dataTable['output_type'] = 'display_data';\n",
              "          await google.colab.output.renderOutput(dataTable, element);\n",
              "          const docLink = document.createElement('div');\n",
              "          docLink.innerHTML = docLinkHtml;\n",
              "          element.appendChild(docLink);\n",
              "        }\n",
              "      </script>\n",
              "    </div>\n",
              "  </div>\n",
              "  "
            ]
          },
          "metadata": {},
          "execution_count": 5
        }
      ],
      "source": [
        "data = pd.read_csv('clean_recipe_data_nutrition.csv')\n",
        "data = data[\n",
        "    ['id', 'servings', 'calories_per_serving', 'protein_per_serving', \n",
        "     'fat_per_serving', 'carb_per_serving', 'meal_type', 'region']\n",
        "]\n",
        "data['meal_type'] = data['meal_type'].fillna(value='UNK_meal_type')\n",
        "data.head()"
      ]
    },
    {
      "cell_type": "code",
      "source": [
        "# there are multiple meal types associated with some recipes\n",
        "# assign them to only one\n",
        "fix_meal_type_dict = {\n",
        "    'UNK_meal_type':'UNK_meal_type', \n",
        "    'appetizer': 'appetizer', \n",
        "    'appetizer,bread': 'bread',\n",
        "    'appetizer,bread,side': 'bread', \n",
        "    'appetizer,dessert': 'dessert', \n",
        "    'appetizer,main': 'appetizer',\n",
        "    'appetizer,main,salad,side': 'main', \n",
        "    'appetizer,salad': 'salad', \n",
        "    'appetizer,side': 'appetizer',\n",
        "    'appetizer,soups_and_stews': 'soups_and_stews', \n",
        "    'bread': 'bread', \n",
        "    'bread,main': 'bread', \n",
        "    'dessert': 'dessert',\n",
        "    'dessert,main': 'dessert', \n",
        "    'dessert,salad': 'dessert', \n",
        "    'drinks': 'drinks', \n",
        "    'main': 'main', \n",
        "    'main,salad': 'salad',\n",
        "    'main,side': 'side', \n",
        "    'main,side,soups_and_stews': 'main', \n",
        "    'main,soups_and_stews': 'main',\n",
        "    'salad': 'salad', \n",
        "    'salad,side': 'salad', \n",
        "    'side': 'side', \n",
        "    'side,soups_and_stews': 'soups_and_stews',\n",
        "    'soups_and_stews': 'soups_and_stews',\n",
        "    ',main': 'main'\n",
        "}\n",
        "data = data.replace({'meal_type': fix_meal_type_dict})\n",
        "fix_region_dict = {\n",
        "    'african': 'african', \n",
        "    'african,european': 'african',\n",
        "    'african,european,usa': 'african',\n",
        "    'african,middle_eastern': 'african', \n",
        "    'african,middle_eastern,usa': 'african',\n",
        "    'african,usa': 'african', \n",
        "    'asian': 'asian', \n",
        "    'asian,austrailia_new_zealand,usa': 'asian',\n",
        "    'asian,european': 'asian', \n",
        "    'asian,usa': 'asian', \n",
        "    'austrailia_new_zealand': 'austrailia_new_zealand',\n",
        "    'austrailia_new_zealand,european': 'austrailia_new_zealand', \n",
        "    'austrailia_new_zealand,usa': 'austrailia_new_zealand',\n",
        "    'european': 'european',\n",
        "    'european,latin_american': 'european', \n",
        "    'european,middle_eastern': 'european',\n",
        "    'european,middle_eastern,usa': 'european', \n",
        "    'european,usa': 'european', \n",
        "    'latin_american': 'latin_american',\n",
        "    'latin_american,usa': 'latin_american', \n",
        "    'middle_eastern': 'middle_eastern', \n",
        "    'middle_eastern,usa': 'middle_eastern',\n",
        "    'usa': 'usa'\n",
        "}\n",
        "data = data.replace({'region': fix_region_dict})"
      ],
      "metadata": {
        "id": "RKB1BJUyy3_p"
      },
      "execution_count": 6,
      "outputs": []
    },
    {
      "cell_type": "markdown",
      "source": [
        "# Load images, split data into train and test"
      ],
      "metadata": {
        "id": "M2wLZFRJGil6"
      }
    },
    {
      "cell_type": "code",
      "source": [
        "images = []\n",
        "imgzip = zipfile.ZipFile(\"Recipe_Images_224_x_224.zip\")\n",
        "for f in tqdm(imgzip.infolist()):\n",
        "    ifile = imgzip.open(f)\n",
        "    img = np.asarray(Image.open(ifile))\n",
        "    images.append(img)\n"
      ],
      "metadata": {
        "colab": {
          "base_uri": "https://localhost:8080/"
        },
        "id": "t-vxpmgTnoAN",
        "outputId": "6d2162c4-af76-48eb-b814-4aae2727d0e2"
      },
      "execution_count": 7,
      "outputs": [
        {
          "output_type": "stream",
          "name": "stderr",
          "text": [
            "100%|██████████| 8573/8573 [00:13<00:00, 614.67it/s]\n"
          ]
        }
      ]
    },
    {
      "cell_type": "code",
      "source": [
        "train_df, test_df = train_test_split(data, test_size = 0.2, random_state = SEED)"
      ],
      "metadata": {
        "id": "l0eCkBrKG4me"
      },
      "execution_count": 8,
      "outputs": []
    },
    {
      "cell_type": "code",
      "source": [
        "train_df.head()"
      ],
      "metadata": {
        "colab": {
          "base_uri": "https://localhost:8080/",
          "height": 206
        },
        "id": "YWNeh6hdHF_9",
        "outputId": "6c73f62f-c073-4f26-920a-50fdd5524424"
      },
      "execution_count": 9,
      "outputs": [
        {
          "output_type": "execute_result",
          "data": {
            "text/plain": [
              "        id  servings  calories_per_serving  protein_per_serving  \\\n",
              "4971  8160         4                   127                    4   \n",
              "2573  4249         6                   300                    6   \n",
              "786   1354         8                   395                   11   \n",
              "3684  6038        25                   318                   26   \n",
              "435    784        35                   141                    7   \n",
              "\n",
              "      fat_per_serving  carb_per_serving      meal_type          region  \n",
              "4971                9                 9          salad        european  \n",
              "2573               12                44           side           asian  \n",
              "786                17                48  UNK_meal_type        european  \n",
              "3684                6                41  UNK_meal_type        european  \n",
              "435                 8                11  UNK_meal_type  latin_american  "
            ],
            "text/html": [
              "\n",
              "  <div id=\"df-b19b22e1-5dde-44f4-812a-1738bb42bbd4\">\n",
              "    <div class=\"colab-df-container\">\n",
              "      <div>\n",
              "<style scoped>\n",
              "    .dataframe tbody tr th:only-of-type {\n",
              "        vertical-align: middle;\n",
              "    }\n",
              "\n",
              "    .dataframe tbody tr th {\n",
              "        vertical-align: top;\n",
              "    }\n",
              "\n",
              "    .dataframe thead th {\n",
              "        text-align: right;\n",
              "    }\n",
              "</style>\n",
              "<table border=\"1\" class=\"dataframe\">\n",
              "  <thead>\n",
              "    <tr style=\"text-align: right;\">\n",
              "      <th></th>\n",
              "      <th>id</th>\n",
              "      <th>servings</th>\n",
              "      <th>calories_per_serving</th>\n",
              "      <th>protein_per_serving</th>\n",
              "      <th>fat_per_serving</th>\n",
              "      <th>carb_per_serving</th>\n",
              "      <th>meal_type</th>\n",
              "      <th>region</th>\n",
              "    </tr>\n",
              "  </thead>\n",
              "  <tbody>\n",
              "    <tr>\n",
              "      <th>4971</th>\n",
              "      <td>8160</td>\n",
              "      <td>4</td>\n",
              "      <td>127</td>\n",
              "      <td>4</td>\n",
              "      <td>9</td>\n",
              "      <td>9</td>\n",
              "      <td>salad</td>\n",
              "      <td>european</td>\n",
              "    </tr>\n",
              "    <tr>\n",
              "      <th>2573</th>\n",
              "      <td>4249</td>\n",
              "      <td>6</td>\n",
              "      <td>300</td>\n",
              "      <td>6</td>\n",
              "      <td>12</td>\n",
              "      <td>44</td>\n",
              "      <td>side</td>\n",
              "      <td>asian</td>\n",
              "    </tr>\n",
              "    <tr>\n",
              "      <th>786</th>\n",
              "      <td>1354</td>\n",
              "      <td>8</td>\n",
              "      <td>395</td>\n",
              "      <td>11</td>\n",
              "      <td>17</td>\n",
              "      <td>48</td>\n",
              "      <td>UNK_meal_type</td>\n",
              "      <td>european</td>\n",
              "    </tr>\n",
              "    <tr>\n",
              "      <th>3684</th>\n",
              "      <td>6038</td>\n",
              "      <td>25</td>\n",
              "      <td>318</td>\n",
              "      <td>26</td>\n",
              "      <td>6</td>\n",
              "      <td>41</td>\n",
              "      <td>UNK_meal_type</td>\n",
              "      <td>european</td>\n",
              "    </tr>\n",
              "    <tr>\n",
              "      <th>435</th>\n",
              "      <td>784</td>\n",
              "      <td>35</td>\n",
              "      <td>141</td>\n",
              "      <td>7</td>\n",
              "      <td>8</td>\n",
              "      <td>11</td>\n",
              "      <td>UNK_meal_type</td>\n",
              "      <td>latin_american</td>\n",
              "    </tr>\n",
              "  </tbody>\n",
              "</table>\n",
              "</div>\n",
              "      <button class=\"colab-df-convert\" onclick=\"convertToInteractive('df-b19b22e1-5dde-44f4-812a-1738bb42bbd4')\"\n",
              "              title=\"Convert this dataframe to an interactive table.\"\n",
              "              style=\"display:none;\">\n",
              "        \n",
              "  <svg xmlns=\"http://www.w3.org/2000/svg\" height=\"24px\"viewBox=\"0 0 24 24\"\n",
              "       width=\"24px\">\n",
              "    <path d=\"M0 0h24v24H0V0z\" fill=\"none\"/>\n",
              "    <path d=\"M18.56 5.44l.94 2.06.94-2.06 2.06-.94-2.06-.94-.94-2.06-.94 2.06-2.06.94zm-11 1L8.5 8.5l.94-2.06 2.06-.94-2.06-.94L8.5 2.5l-.94 2.06-2.06.94zm10 10l.94 2.06.94-2.06 2.06-.94-2.06-.94-.94-2.06-.94 2.06-2.06.94z\"/><path d=\"M17.41 7.96l-1.37-1.37c-.4-.4-.92-.59-1.43-.59-.52 0-1.04.2-1.43.59L10.3 9.45l-7.72 7.72c-.78.78-.78 2.05 0 2.83L4 21.41c.39.39.9.59 1.41.59.51 0 1.02-.2 1.41-.59l7.78-7.78 2.81-2.81c.8-.78.8-2.07 0-2.86zM5.41 20L4 18.59l7.72-7.72 1.47 1.35L5.41 20z\"/>\n",
              "  </svg>\n",
              "      </button>\n",
              "      \n",
              "  <style>\n",
              "    .colab-df-container {\n",
              "      display:flex;\n",
              "      flex-wrap:wrap;\n",
              "      gap: 12px;\n",
              "    }\n",
              "\n",
              "    .colab-df-convert {\n",
              "      background-color: #E8F0FE;\n",
              "      border: none;\n",
              "      border-radius: 50%;\n",
              "      cursor: pointer;\n",
              "      display: none;\n",
              "      fill: #1967D2;\n",
              "      height: 32px;\n",
              "      padding: 0 0 0 0;\n",
              "      width: 32px;\n",
              "    }\n",
              "\n",
              "    .colab-df-convert:hover {\n",
              "      background-color: #E2EBFA;\n",
              "      box-shadow: 0px 1px 2px rgba(60, 64, 67, 0.3), 0px 1px 3px 1px rgba(60, 64, 67, 0.15);\n",
              "      fill: #174EA6;\n",
              "    }\n",
              "\n",
              "    [theme=dark] .colab-df-convert {\n",
              "      background-color: #3B4455;\n",
              "      fill: #D2E3FC;\n",
              "    }\n",
              "\n",
              "    [theme=dark] .colab-df-convert:hover {\n",
              "      background-color: #434B5C;\n",
              "      box-shadow: 0px 1px 3px 1px rgba(0, 0, 0, 0.15);\n",
              "      filter: drop-shadow(0px 1px 2px rgba(0, 0, 0, 0.3));\n",
              "      fill: #FFFFFF;\n",
              "    }\n",
              "  </style>\n",
              "\n",
              "      <script>\n",
              "        const buttonEl =\n",
              "          document.querySelector('#df-b19b22e1-5dde-44f4-812a-1738bb42bbd4 button.colab-df-convert');\n",
              "        buttonEl.style.display =\n",
              "          google.colab.kernel.accessAllowed ? 'block' : 'none';\n",
              "\n",
              "        async function convertToInteractive(key) {\n",
              "          const element = document.querySelector('#df-b19b22e1-5dde-44f4-812a-1738bb42bbd4');\n",
              "          const dataTable =\n",
              "            await google.colab.kernel.invokeFunction('convertToInteractive',\n",
              "                                                     [key], {});\n",
              "          if (!dataTable) return;\n",
              "\n",
              "          const docLinkHtml = 'Like what you see? Visit the ' +\n",
              "            '<a target=\"_blank\" href=https://colab.research.google.com/notebooks/data_table.ipynb>data table notebook</a>'\n",
              "            + ' to learn more about interactive tables.';\n",
              "          element.innerHTML = '';\n",
              "          dataTable['output_type'] = 'display_data';\n",
              "          await google.colab.output.renderOutput(dataTable, element);\n",
              "          const docLink = document.createElement('div');\n",
              "          docLink.innerHTML = docLinkHtml;\n",
              "          element.appendChild(docLink);\n",
              "        }\n",
              "      </script>\n",
              "    </div>\n",
              "  </div>\n",
              "  "
            ]
          },
          "metadata": {},
          "execution_count": 9
        }
      ]
    },
    {
      "cell_type": "code",
      "source": [
        "train_idx = train_df['id'].values\n",
        "test_idx = test_df['id'].values\n",
        "train_images = np.array([images[idx] for idx in train_idx])\n",
        "test_images = np.array([images[idx] for idx in test_idx])"
      ],
      "metadata": {
        "id": "wlsk93VpHHjk"
      },
      "execution_count": 10,
      "outputs": []
    },
    {
      "cell_type": "code",
      "source": [
        "train_y = np.column_stack(\n",
        "    (train_df['calories_per_serving'].values,\n",
        "     train_df['protein_per_serving'].values,\n",
        "     train_df['fat_per_serving'].values,\n",
        "     train_df['carb_per_serving'].values)\n",
        ")\n",
        "test_y = np.column_stack(\n",
        "    (test_df['calories_per_serving'].values,\n",
        "     test_df['protein_per_serving'].values,\n",
        "     test_df['fat_per_serving'].values,\n",
        "     test_df['carb_per_serving'].values)\n",
        ")"
      ],
      "metadata": {
        "id": "0wIOP6wJHHfv"
      },
      "execution_count": 11,
      "outputs": []
    },
    {
      "cell_type": "code",
      "source": [
        "one_hot_enc = OneHotEncoder(sparse = False)\n",
        "train_df_tabular = train_df[['meal_type', 'region']]\n",
        "train_tabular = one_hot_enc.fit_transform(train_df_tabular)\n",
        "test_df_tabular = test_df[['meal_type', 'region']]\n",
        "test_tabular = one_hot_enc.transform(test_df_tabular)"
      ],
      "metadata": {
        "id": "BEwrqY4h0TyW"
      },
      "execution_count": 12,
      "outputs": []
    },
    {
      "cell_type": "markdown",
      "source": [
        "# Create model"
      ],
      "metadata": {
        "id": "rzRk3p_hIANC"
      }
    },
    {
      "cell_type": "code",
      "source": [
        "IMG_SHAPE = (224, 224, 3)"
      ],
      "metadata": {
        "id": "SxdQsLHHpZrP"
      },
      "execution_count": 13,
      "outputs": []
    },
    {
      "cell_type": "code",
      "source": [
        "def create_cnn(IMG_SHAPE, fine_tune=False, fine_tune_at=0):\n",
        "    data_augmentation = tf.keras.Sequential([\n",
        "        tf.keras.layers.RandomFlip('horizontal'),\n",
        "        tf.keras.layers.RandomRotation(0.2),\n",
        "    ])\n",
        "    base_model = DenseNet121(weights='imagenet', include_top=False, input_shape=IMG_SHAPE)\n",
        "    base_model.trainable = False\n",
        "    if fine_tune:\n",
        "        fine_tune_at = fine_tune_at\n",
        "        for layer in base_model.layers[-fine_tune_at:]:\n",
        "            if not isinstance(layer, layers.BatchNormalization):\n",
        "                layer.trainable = True\n",
        "\n",
        "    inputs = tf.keras.Input(shape=(224, 224, 3))\n",
        "    x = data_augmentation(inputs)\n",
        "    x = preprocess_input(x)\n",
        "    x = base_model(x, training = False)\n",
        "    x = GlobalAveragePooling2D()(x)\n",
        "    x = Dropout(0.2)(x)\n",
        "    outputs = Dense(4, activation='relu')(x)\n",
        "    model = Model(inputs, x)\n",
        "    return model\n",
        "\n",
        "\n",
        "def create_mlp(dim):\n",
        "    model = Sequential()\n",
        "    model.add(Dense(8, input_dim=dim, activation='relu'))\n",
        "    model.add(Dense(4, activation='relu'))\n",
        "    return model"
      ],
      "metadata": {
        "id": "64_4X15F2D0s"
      },
      "execution_count": 14,
      "outputs": []
    },
    {
      "cell_type": "code",
      "source": [
        "mlp = create_mlp(train_tabular.shape[1])\n",
        "cnn = create_cnn(IMG_SHAPE)\n",
        "\n",
        "combined_input = concatenate([mlp.output, cnn.output])\n",
        "\n",
        "x = Dense(8, activation = 'relu')(combined_input)\n",
        "x = Dense(4, activation = 'linear')(x)\n",
        "\n",
        "model = tf.keras.Model(inputs = [mlp.input, cnn.input], outputs = x)\n",
        "model.compile(\n",
        "    optimizer = tf.keras.optimizers.Adam(learning_rate=0.001),\n",
        "    loss = 'huber_loss',\n",
        "    metrics = ['mean_absolute_error']\n",
        ")\n",
        "model.summary()"
      ],
      "metadata": {
        "id": "-yKGzJi_qu1U",
        "colab": {
          "base_uri": "https://localhost:8080/"
        },
        "outputId": "5fc59d78-577c-4a4a-a08d-e083773aa516"
      },
      "execution_count": 15,
      "outputs": [
        {
          "output_type": "stream",
          "name": "stdout",
          "text": [
            "Downloading data from https://storage.googleapis.com/tensorflow/keras-applications/densenet/densenet121_weights_tf_dim_ordering_tf_kernels_notop.h5\n",
            "29084464/29084464 [==============================] - 2s 0us/step\n",
            "Model: \"model_1\"\n",
            "__________________________________________________________________________________________________\n",
            " Layer (type)                   Output Shape         Param #     Connected to                     \n",
            "==================================================================================================\n",
            " input_2 (InputLayer)           [(None, 224, 224, 3  0           []                               \n",
            "                                )]                                                                \n",
            "                                                                                                  \n",
            " sequential_1 (Sequential)      (None, 224, 224, 3)  0           ['input_2[0][0]']                \n",
            "                                                                                                  \n",
            " tf.math.truediv (TFOpLambda)   (None, 224, 224, 3)  0           ['sequential_1[0][0]']           \n",
            "                                                                                                  \n",
            " tf.nn.bias_add (TFOpLambda)    (None, 224, 224, 3)  0           ['tf.math.truediv[0][0]']        \n",
            "                                                                                                  \n",
            " tf.math.truediv_1 (TFOpLambda)  (None, 224, 224, 3)  0          ['tf.nn.bias_add[0][0]']         \n",
            "                                                                                                  \n",
            " dense_input (InputLayer)       [(None, 16)]         0           []                               \n",
            "                                                                                                  \n",
            " densenet121 (Functional)       (None, 7, 7, 1024)   7037504     ['tf.math.truediv_1[0][0]']      \n",
            "                                                                                                  \n",
            " dense (Dense)                  (None, 8)            136         ['dense_input[0][0]']            \n",
            "                                                                                                  \n",
            " global_average_pooling2d (Glob  (None, 1024)        0           ['densenet121[0][0]']            \n",
            " alAveragePooling2D)                                                                              \n",
            "                                                                                                  \n",
            " dense_1 (Dense)                (None, 4)            36          ['dense[0][0]']                  \n",
            "                                                                                                  \n",
            " dropout (Dropout)              (None, 1024)         0           ['global_average_pooling2d[0][0]'\n",
            "                                                                 ]                                \n",
            "                                                                                                  \n",
            " concatenate (Concatenate)      (None, 1028)         0           ['dense_1[0][0]',                \n",
            "                                                                  'dropout[0][0]']                \n",
            "                                                                                                  \n",
            " dense_3 (Dense)                (None, 8)            8232        ['concatenate[0][0]']            \n",
            "                                                                                                  \n",
            " dense_4 (Dense)                (None, 4)            36          ['dense_3[0][0]']                \n",
            "                                                                                                  \n",
            "==================================================================================================\n",
            "Total params: 7,045,944\n",
            "Trainable params: 8,440\n",
            "Non-trainable params: 7,037,504\n",
            "__________________________________________________________________________________________________\n"
          ]
        }
      ]
    },
    {
      "cell_type": "code",
      "source": [
        "es = EarlyStopping(monitor='val_mean_absolute_error', patience=3, restore_best_weights=True)\n",
        "initial_epochs = 100\n",
        "history = model.fit(\n",
        "    x = [train_tabular, train_images],\n",
        "    y = train_y,\n",
        "    batch_size = 32,\n",
        "    epochs = initial_epochs,\n",
        "    validation_split = 0.2,\n",
        "    callbacks = [es]\n",
        ")\n",
        "model.save_weights('initial_multiin_multiout_densenet.h5')"
      ],
      "metadata": {
        "colab": {
          "base_uri": "https://localhost:8080/"
        },
        "id": "9PwYWUp5rsTZ",
        "outputId": "fef8fcaa-4746-4529-f637-91801d865529"
      },
      "execution_count": 16,
      "outputs": [
        {
          "output_type": "stream",
          "name": "stdout",
          "text": [
            "Epoch 1/100\n",
            "105/105 [==============================] - 33s 169ms/step - loss: 94.8093 - mean_absolute_error: 95.3008 - val_loss: 90.1132 - val_mean_absolute_error: 90.6071\n",
            "Epoch 2/100\n",
            "105/105 [==============================] - 14s 137ms/step - loss: 87.0982 - mean_absolute_error: 87.5922 - val_loss: 82.7260 - val_mean_absolute_error: 83.2199\n",
            "Epoch 3/100\n",
            "105/105 [==============================] - 14s 133ms/step - loss: 75.4045 - mean_absolute_error: 75.8972 - val_loss: 66.8549 - val_mean_absolute_error: 67.3483\n",
            "Epoch 4/100\n",
            "105/105 [==============================] - 14s 138ms/step - loss: 57.4985 - mean_absolute_error: 57.9916 - val_loss: 52.5856 - val_mean_absolute_error: 53.0792\n",
            "Epoch 5/100\n",
            "105/105 [==============================] - 14s 132ms/step - loss: 50.6172 - mean_absolute_error: 51.1098 - val_loss: 50.7373 - val_mean_absolute_error: 51.2300\n",
            "Epoch 6/100\n",
            "105/105 [==============================] - 14s 137ms/step - loss: 49.9015 - mean_absolute_error: 50.3946 - val_loss: 50.3724 - val_mean_absolute_error: 50.8661\n",
            "Epoch 7/100\n",
            "105/105 [==============================] - 14s 133ms/step - loss: 49.4899 - mean_absolute_error: 49.9825 - val_loss: 49.9646 - val_mean_absolute_error: 50.4567\n",
            "Epoch 8/100\n",
            "105/105 [==============================] - 14s 134ms/step - loss: 48.9703 - mean_absolute_error: 49.4630 - val_loss: 49.5445 - val_mean_absolute_error: 50.0378\n",
            "Epoch 9/100\n",
            "105/105 [==============================] - 14s 132ms/step - loss: 48.4685 - mean_absolute_error: 48.9614 - val_loss: 49.0690 - val_mean_absolute_error: 49.5623\n",
            "Epoch 10/100\n",
            "105/105 [==============================] - 14s 133ms/step - loss: 48.0507 - mean_absolute_error: 48.5435 - val_loss: 48.6784 - val_mean_absolute_error: 49.1713\n",
            "Epoch 11/100\n",
            "105/105 [==============================] - 14s 132ms/step - loss: 47.4102 - mean_absolute_error: 47.9031 - val_loss: 48.4311 - val_mean_absolute_error: 48.9236\n",
            "Epoch 12/100\n",
            "105/105 [==============================] - 14s 136ms/step - loss: 47.2152 - mean_absolute_error: 47.7073 - val_loss: 48.2542 - val_mean_absolute_error: 48.7475\n",
            "Epoch 13/100\n",
            "105/105 [==============================] - 14s 135ms/step - loss: 46.9134 - mean_absolute_error: 47.4055 - val_loss: 48.0792 - val_mean_absolute_error: 48.5709\n",
            "Epoch 14/100\n",
            "105/105 [==============================] - 14s 131ms/step - loss: 46.7648 - mean_absolute_error: 47.2566 - val_loss: 48.0186 - val_mean_absolute_error: 48.5107\n",
            "Epoch 15/100\n",
            "105/105 [==============================] - 14s 131ms/step - loss: 46.5759 - mean_absolute_error: 47.0669 - val_loss: 47.9616 - val_mean_absolute_error: 48.4547\n",
            "Epoch 16/100\n",
            "105/105 [==============================] - 14s 136ms/step - loss: 46.6491 - mean_absolute_error: 47.1413 - val_loss: 47.9821 - val_mean_absolute_error: 48.4744\n",
            "Epoch 17/100\n",
            "105/105 [==============================] - 14s 131ms/step - loss: 46.3194 - mean_absolute_error: 46.8110 - val_loss: 47.9300 - val_mean_absolute_error: 48.4219\n",
            "Epoch 18/100\n",
            "105/105 [==============================] - 14s 129ms/step - loss: 46.3794 - mean_absolute_error: 46.8708 - val_loss: 47.9385 - val_mean_absolute_error: 48.4307\n",
            "Epoch 19/100\n",
            "105/105 [==============================] - 14s 135ms/step - loss: 46.3026 - mean_absolute_error: 46.7945 - val_loss: 47.8914 - val_mean_absolute_error: 48.3836\n",
            "Epoch 20/100\n",
            "105/105 [==============================] - 14s 130ms/step - loss: 46.2653 - mean_absolute_error: 46.7569 - val_loss: 47.9019 - val_mean_absolute_error: 48.3944\n",
            "Epoch 21/100\n",
            "105/105 [==============================] - 14s 137ms/step - loss: 46.1941 - mean_absolute_error: 46.6860 - val_loss: 47.9216 - val_mean_absolute_error: 48.4139\n",
            "Epoch 22/100\n",
            "105/105 [==============================] - 14s 133ms/step - loss: 46.1335 - mean_absolute_error: 46.6250 - val_loss: 47.8804 - val_mean_absolute_error: 48.3725\n",
            "Epoch 23/100\n",
            "105/105 [==============================] - 14s 137ms/step - loss: 46.0717 - mean_absolute_error: 46.5640 - val_loss: 47.8859 - val_mean_absolute_error: 48.3781\n",
            "Epoch 24/100\n",
            "105/105 [==============================] - 14s 130ms/step - loss: 46.0857 - mean_absolute_error: 46.5770 - val_loss: 47.9121 - val_mean_absolute_error: 48.4036\n",
            "Epoch 25/100\n",
            "105/105 [==============================] - 14s 133ms/step - loss: 46.0030 - mean_absolute_error: 46.4938 - val_loss: 47.9076 - val_mean_absolute_error: 48.3994\n"
          ]
        }
      ]
    },
    {
      "cell_type": "code",
      "source": [
        "test_preds = model.predict([test_tabular, test_images])\n",
        "mae_cal = mean_absolute_error(test_y[:,0:1], test_preds[:,0:1])\n",
        "mae_pro = mean_absolute_error(test_y[:,1:2], test_preds[:,1:2])\n",
        "mae_fat = mean_absolute_error(test_y[:,2:3], test_preds[:,2:3])\n",
        "mae_carb = mean_absolute_error(test_y[:,3:4], test_preds[:,3:4])\n",
        "print(mae_cal, mae_pro, mae_fat, mae_carb)"
      ],
      "metadata": {
        "colab": {
          "base_uri": "https://localhost:8080/"
        },
        "id": "kukJkj2hLuKx",
        "outputId": "bb88390d-e245-4337-fe15-10cd81cb48cc"
      },
      "execution_count": null,
      "outputs": [
        {
          "output_type": "stream",
          "name": "stdout",
          "text": [
            "33/33 [==============================] - ETA: 0s"
          ]
        }
      ]
    },
    {
      "cell_type": "code",
      "source": [
        "runtime.unassign()"
      ],
      "metadata": {
        "id": "XlMizfV0L0OK"
      },
      "execution_count": null,
      "outputs": []
    },
    {
      "cell_type": "code",
      "source": [],
      "metadata": {
        "id": "5enqxoCJkfJ0"
      },
      "execution_count": null,
      "outputs": []
    }
  ],
  "metadata": {
    "colab": {
      "provenance": []
    },
    "kernelspec": {
      "display_name": "Python 3",
      "name": "python3"
    },
    "language_info": {
      "name": "python"
    },
    "accelerator": "GPU",
    "gpuClass": "standard"
  },
  "nbformat": 4,
  "nbformat_minor": 0
}